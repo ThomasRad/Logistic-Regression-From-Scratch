{
 "cells": [
  {
   "cell_type": "markdown",
   "metadata": {},
   "source": [
    "# Following Along YouTube Tutorial"
   ]
  },
  {
   "cell_type": "code",
   "execution_count": 4,
   "metadata": {},
   "outputs": [],
   "source": [
    "# Import \n",
    "\n",
    "import numpy as np\n",
    "from sklearn.model_selection import train_test_split\n",
    "from sklearn import datasets"
   ]
  },
  {
   "cell_type": "code",
   "execution_count": 6,
   "metadata": {},
   "outputs": [],
   "source": [
    "# Create our Dataset \n",
    "\n",
    "Brest_cancer = datasets.load_breast_cancer()\n",
    "x,y = Brest_cancer.data, Brest_cancer.target\n",
    "\n",
    "x_train, x_test, y_train , y_test = train_test_split(x,y, test_size = 0.2, random_state = 1)"
   ]
  },
  {
   "cell_type": "code",
   "execution_count": 12,
   "metadata": {},
   "outputs": [],
   "source": [
    "# Define the Logistic Regression Class.\n",
    "\n",
    "class LogisticRegression:\n",
    "    \n",
    "    def __init__(self, lr = 0.001, n_iters = 1000):\n",
    "        self.lr = lr\n",
    "        self.n_iters = n_iters\n",
    "        self.weights = None\n",
    "        self.bias = None\n",
    "        \n",
    "    # Create the Fit Function\n",
    "\n",
    "    def fit(self, x, y):\n",
    "        \n",
    "    # Set up the params \n",
    "        \n",
    "        n_samples, n_features = x.shape\n",
    "        self.weights = np.zeros(n_features)\n",
    "        self.bias = 0\n",
    "        \n",
    "    # Gradient here.\n",
    "        \n",
    "        for _ in range(self.n_iters):\n",
    "            linear_model = np.dot(x, self.weights) + self.bias\n",
    "            y_pred = self._sigmoid(linear_model)\n",
    "            \n",
    "            \n",
    "            dw = (1 / n_samples) * np.dot(x.T, (y_pred - y))\n",
    "            db = (1 / n_samples) * np.sum(y_pred - y)\n",
    "            \n",
    "            self.weights -= self.lr * dw\n",
    "            self.bias -= self.lr * db\n",
    "        \n",
    "            \n",
    "    # Create the predict function. \n",
    "    \n",
    "    def predict(self,x):\n",
    "        \n",
    "        linear_model = np.dot(x, self.weights) + self.bias\n",
    "        y_pred = self._sigmoid(linear_model)\n",
    "        y_pred_cls = [1 if i > 0.5 else 0 for i in y_pred]\n",
    "        return np.array(y_pred_cls)\n",
    "        \n",
    "    # Create the sigmoid function. \n",
    "    \n",
    "    def _sigmoid(self, x):\n",
    "        \n",
    "        return 1 / (1 + np.exp(-x))\n",
    "    \n",
    "    "
   ]
  },
  {
   "cell_type": "code",
   "execution_count": 13,
   "metadata": {},
   "outputs": [],
   "source": [
    "# Define acc\n",
    "\n",
    "def accuracy(y_true, y_pred):\n",
    "    acc = np.sum(y_true == y_pred) / len(y_true)\n",
    "    return acc"
   ]
  },
  {
   "cell_type": "code",
   "execution_count": 14,
   "metadata": {},
   "outputs": [
    {
     "name": "stderr",
     "output_type": "stream",
     "text": [
      "C:\\Users\\tradk\\anaconda3\\lib\\site-packages\\ipykernel_launcher.py:48: RuntimeWarning: overflow encountered in exp\n"
     ]
    },
    {
     "data": {
      "text/plain": [
       "0.9210526315789473"
      ]
     },
     "execution_count": 14,
     "metadata": {},
     "output_type": "execute_result"
    }
   ],
   "source": [
    "# Test out the model\n",
    "\n",
    "logistic_reg = LogisticRegression(lr = 0.001, n_iters=1000)\n",
    "logistic_reg.fit(x_train,y_train)\n",
    "pred = logistic_reg.predict(x_test)\n",
    "\n",
    "accuracy(y_test, pred)"
   ]
  }
 ],
 "metadata": {
  "kernelspec": {
   "display_name": "Python 3",
   "language": "python",
   "name": "python3"
  },
  "language_info": {
   "codemirror_mode": {
    "name": "ipython",
    "version": 3
   },
   "file_extension": ".py",
   "mimetype": "text/x-python",
   "name": "python",
   "nbconvert_exporter": "python",
   "pygments_lexer": "ipython3",
   "version": "3.7.6"
  }
 },
 "nbformat": 4,
 "nbformat_minor": 4
}
